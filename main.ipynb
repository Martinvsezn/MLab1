{
 "cells": [
  {
   "cell_type": "code",
   "execution_count": 76,
   "metadata": {
    "collapsed": true
   },
   "outputs": [
    {
     "name": "stdout",
     "output_type": "stream",
     "text": [
      "<class 'pandas.core.frame.DataFrame'>\n",
      "RangeIndex: 27075 entries, 0 to 27074\n",
      "Data columns (total 18 columns):\n",
      " #   Column            Non-Null Count  Dtype  \n",
      "---  ------            --------------  -----  \n",
      " 0   appid             27075 non-null  int64  \n",
      " 1   name              27075 non-null  object \n",
      " 2   release_date      27075 non-null  object \n",
      " 3   english           27075 non-null  int64  \n",
      " 4   developer         27075 non-null  object \n",
      " 5   publisher         27075 non-null  object \n",
      " 6   platforms         27075 non-null  object \n",
      " 7   required_age      27075 non-null  int64  \n",
      " 8   categories        27075 non-null  object \n",
      " 9   genres            27075 non-null  object \n",
      " 10  steamspy_tags     27075 non-null  object \n",
      " 11  achievements      27075 non-null  int64  \n",
      " 12  positive_ratings  27075 non-null  int64  \n",
      " 13  negative_ratings  27075 non-null  int64  \n",
      " 14  average_playtime  27075 non-null  int64  \n",
      " 15  median_playtime   27075 non-null  int64  \n",
      " 16  owners            27075 non-null  object \n",
      " 17  price             27075 non-null  float64\n",
      "dtypes: float64(1), int64(8), object(9)\n",
      "memory usage: 3.7+ MB\n"
     ]
    }
   ],
   "source": [
    "import numpy as np\n",
    "import pandas as pd\n",
    "df = pd.read_csv( \"steam.csv\" )\n",
    "df.info()"
   ]
  },
  {
   "cell_type": "code",
   "execution_count": 77,
   "outputs": [
    {
     "data": {
      "text/plain": "         appid                        name release_date  english  \\\n0           10              Counter-Strike   2000-11-01        1   \n1           20       Team Fortress Classic   1999-04-01        1   \n2           30               Day of Defeat   2003-05-01        1   \n3           40          Deathmatch Classic   2001-06-01        1   \n4           50   Half-Life: Opposing Force   1999-11-01        1   \n...        ...                         ...          ...      ...   \n27070  1065230             Room of Pandora   2019-04-24        1   \n27071  1065570                   Cyber Gun   2019-04-23        1   \n27072  1065650            Super Star Blast   2019-04-24        1   \n27073  1066700  New Yankee 7: Deer Hunters   2019-04-17        1   \n27074  1069460                   Rune Lord   2019-04-24        1   \n\n                developer             publisher          platforms  \\\n0                   Valve                 Valve  windows;mac;linux   \n1                   Valve                 Valve  windows;mac;linux   \n2                   Valve                 Valve  windows;mac;linux   \n3                   Valve                 Valve  windows;mac;linux   \n4        Gearbox Software                 Valve  windows;mac;linux   \n...                   ...                   ...                ...   \n27070         SHEN JIAWEI           SHEN JIAWEI            windows   \n27071      Semyon Maximov      BekkerDev Studio            windows   \n27072         EntwicklerX           EntwicklerX            windows   \n27073  Yustas Game Studio  Alawar Entertainment        windows;mac   \n27074    Adept Studios GD  Alawar Entertainment        windows;mac   \n\n       required_age                                         categories  \\\n0                 0  Multi-player;Online Multi-Player;Local Multi-P...   \n1                 0  Multi-player;Online Multi-Player;Local Multi-P...   \n2                 0              Multi-player;Valve Anti-Cheat enabled   \n3                 0  Multi-player;Online Multi-Player;Local Multi-P...   \n4                 0  Single-player;Multi-player;Valve Anti-Cheat en...   \n...             ...                                                ...   \n27070             0                   Single-player;Steam Achievements   \n27071             0                                      Single-player   \n27072             0  Single-player;Multi-player;Co-op;Shared/Split ...   \n27073             0                          Single-player;Steam Cloud   \n27074             0                          Single-player;Steam Cloud   \n\n                       genres                 steamspy_tags  achievements  \\\n0                      Action        Action;FPS;Multiplayer             0   \n1                      Action        Action;FPS;Multiplayer             0   \n2                      Action  FPS;World War II;Multiplayer             0   \n3                      Action        Action;FPS;Multiplayer             0   \n4                      Action             FPS;Action;Sci-fi             0   \n...                       ...                           ...           ...   \n27070  Adventure;Casual;Indie        Adventure;Indie;Casual             7   \n27071  Action;Adventure;Indie        Action;Indie;Adventure             0   \n27072     Action;Casual;Indie           Action;Indie;Casual            24   \n27073  Adventure;Casual;Indie        Indie;Casual;Adventure             0   \n27074  Adventure;Casual;Indie        Indie;Casual;Adventure             0   \n\n       positive_ratings  negative_ratings  average_playtime  median_playtime  \\\n0                124534              3339             17612              317   \n1                  3318               633               277               62   \n2                  3416               398               187               34   \n3                  1273               267               258              184   \n4                  5250               288               624              415   \n...                 ...               ...               ...              ...   \n27070                 3                 0                 0                0   \n27071                 8                 1                 0                0   \n27072                 0                 1                 0                0   \n27073                 2                 0                 0                0   \n27074                 4                 0                 0                0   \n\n                  owners  price  \n0      10000000-20000000   7.19  \n1       5000000-10000000   3.99  \n2       5000000-10000000   3.99  \n3       5000000-10000000   3.99  \n4       5000000-10000000   3.99  \n...                  ...    ...  \n27070            0-20000   2.09  \n27071            0-20000   1.69  \n27072            0-20000   3.99  \n27073            0-20000   5.19  \n27074            0-20000   5.19  \n\n[27075 rows x 18 columns]",
      "text/html": "<div>\n<style scoped>\n    .dataframe tbody tr th:only-of-type {\n        vertical-align: middle;\n    }\n\n    .dataframe tbody tr th {\n        vertical-align: top;\n    }\n\n    .dataframe thead th {\n        text-align: right;\n    }\n</style>\n<table border=\"1\" class=\"dataframe\">\n  <thead>\n    <tr style=\"text-align: right;\">\n      <th></th>\n      <th>appid</th>\n      <th>name</th>\n      <th>release_date</th>\n      <th>english</th>\n      <th>developer</th>\n      <th>publisher</th>\n      <th>platforms</th>\n      <th>required_age</th>\n      <th>categories</th>\n      <th>genres</th>\n      <th>steamspy_tags</th>\n      <th>achievements</th>\n      <th>positive_ratings</th>\n      <th>negative_ratings</th>\n      <th>average_playtime</th>\n      <th>median_playtime</th>\n      <th>owners</th>\n      <th>price</th>\n    </tr>\n  </thead>\n  <tbody>\n    <tr>\n      <th>0</th>\n      <td>10</td>\n      <td>Counter-Strike</td>\n      <td>2000-11-01</td>\n      <td>1</td>\n      <td>Valve</td>\n      <td>Valve</td>\n      <td>windows;mac;linux</td>\n      <td>0</td>\n      <td>Multi-player;Online Multi-Player;Local Multi-P...</td>\n      <td>Action</td>\n      <td>Action;FPS;Multiplayer</td>\n      <td>0</td>\n      <td>124534</td>\n      <td>3339</td>\n      <td>17612</td>\n      <td>317</td>\n      <td>10000000-20000000</td>\n      <td>7.19</td>\n    </tr>\n    <tr>\n      <th>1</th>\n      <td>20</td>\n      <td>Team Fortress Classic</td>\n      <td>1999-04-01</td>\n      <td>1</td>\n      <td>Valve</td>\n      <td>Valve</td>\n      <td>windows;mac;linux</td>\n      <td>0</td>\n      <td>Multi-player;Online Multi-Player;Local Multi-P...</td>\n      <td>Action</td>\n      <td>Action;FPS;Multiplayer</td>\n      <td>0</td>\n      <td>3318</td>\n      <td>633</td>\n      <td>277</td>\n      <td>62</td>\n      <td>5000000-10000000</td>\n      <td>3.99</td>\n    </tr>\n    <tr>\n      <th>2</th>\n      <td>30</td>\n      <td>Day of Defeat</td>\n      <td>2003-05-01</td>\n      <td>1</td>\n      <td>Valve</td>\n      <td>Valve</td>\n      <td>windows;mac;linux</td>\n      <td>0</td>\n      <td>Multi-player;Valve Anti-Cheat enabled</td>\n      <td>Action</td>\n      <td>FPS;World War II;Multiplayer</td>\n      <td>0</td>\n      <td>3416</td>\n      <td>398</td>\n      <td>187</td>\n      <td>34</td>\n      <td>5000000-10000000</td>\n      <td>3.99</td>\n    </tr>\n    <tr>\n      <th>3</th>\n      <td>40</td>\n      <td>Deathmatch Classic</td>\n      <td>2001-06-01</td>\n      <td>1</td>\n      <td>Valve</td>\n      <td>Valve</td>\n      <td>windows;mac;linux</td>\n      <td>0</td>\n      <td>Multi-player;Online Multi-Player;Local Multi-P...</td>\n      <td>Action</td>\n      <td>Action;FPS;Multiplayer</td>\n      <td>0</td>\n      <td>1273</td>\n      <td>267</td>\n      <td>258</td>\n      <td>184</td>\n      <td>5000000-10000000</td>\n      <td>3.99</td>\n    </tr>\n    <tr>\n      <th>4</th>\n      <td>50</td>\n      <td>Half-Life: Opposing Force</td>\n      <td>1999-11-01</td>\n      <td>1</td>\n      <td>Gearbox Software</td>\n      <td>Valve</td>\n      <td>windows;mac;linux</td>\n      <td>0</td>\n      <td>Single-player;Multi-player;Valve Anti-Cheat en...</td>\n      <td>Action</td>\n      <td>FPS;Action;Sci-fi</td>\n      <td>0</td>\n      <td>5250</td>\n      <td>288</td>\n      <td>624</td>\n      <td>415</td>\n      <td>5000000-10000000</td>\n      <td>3.99</td>\n    </tr>\n    <tr>\n      <th>...</th>\n      <td>...</td>\n      <td>...</td>\n      <td>...</td>\n      <td>...</td>\n      <td>...</td>\n      <td>...</td>\n      <td>...</td>\n      <td>...</td>\n      <td>...</td>\n      <td>...</td>\n      <td>...</td>\n      <td>...</td>\n      <td>...</td>\n      <td>...</td>\n      <td>...</td>\n      <td>...</td>\n      <td>...</td>\n      <td>...</td>\n    </tr>\n    <tr>\n      <th>27070</th>\n      <td>1065230</td>\n      <td>Room of Pandora</td>\n      <td>2019-04-24</td>\n      <td>1</td>\n      <td>SHEN JIAWEI</td>\n      <td>SHEN JIAWEI</td>\n      <td>windows</td>\n      <td>0</td>\n      <td>Single-player;Steam Achievements</td>\n      <td>Adventure;Casual;Indie</td>\n      <td>Adventure;Indie;Casual</td>\n      <td>7</td>\n      <td>3</td>\n      <td>0</td>\n      <td>0</td>\n      <td>0</td>\n      <td>0-20000</td>\n      <td>2.09</td>\n    </tr>\n    <tr>\n      <th>27071</th>\n      <td>1065570</td>\n      <td>Cyber Gun</td>\n      <td>2019-04-23</td>\n      <td>1</td>\n      <td>Semyon Maximov</td>\n      <td>BekkerDev Studio</td>\n      <td>windows</td>\n      <td>0</td>\n      <td>Single-player</td>\n      <td>Action;Adventure;Indie</td>\n      <td>Action;Indie;Adventure</td>\n      <td>0</td>\n      <td>8</td>\n      <td>1</td>\n      <td>0</td>\n      <td>0</td>\n      <td>0-20000</td>\n      <td>1.69</td>\n    </tr>\n    <tr>\n      <th>27072</th>\n      <td>1065650</td>\n      <td>Super Star Blast</td>\n      <td>2019-04-24</td>\n      <td>1</td>\n      <td>EntwicklerX</td>\n      <td>EntwicklerX</td>\n      <td>windows</td>\n      <td>0</td>\n      <td>Single-player;Multi-player;Co-op;Shared/Split ...</td>\n      <td>Action;Casual;Indie</td>\n      <td>Action;Indie;Casual</td>\n      <td>24</td>\n      <td>0</td>\n      <td>1</td>\n      <td>0</td>\n      <td>0</td>\n      <td>0-20000</td>\n      <td>3.99</td>\n    </tr>\n    <tr>\n      <th>27073</th>\n      <td>1066700</td>\n      <td>New Yankee 7: Deer Hunters</td>\n      <td>2019-04-17</td>\n      <td>1</td>\n      <td>Yustas Game Studio</td>\n      <td>Alawar Entertainment</td>\n      <td>windows;mac</td>\n      <td>0</td>\n      <td>Single-player;Steam Cloud</td>\n      <td>Adventure;Casual;Indie</td>\n      <td>Indie;Casual;Adventure</td>\n      <td>0</td>\n      <td>2</td>\n      <td>0</td>\n      <td>0</td>\n      <td>0</td>\n      <td>0-20000</td>\n      <td>5.19</td>\n    </tr>\n    <tr>\n      <th>27074</th>\n      <td>1069460</td>\n      <td>Rune Lord</td>\n      <td>2019-04-24</td>\n      <td>1</td>\n      <td>Adept Studios GD</td>\n      <td>Alawar Entertainment</td>\n      <td>windows;mac</td>\n      <td>0</td>\n      <td>Single-player;Steam Cloud</td>\n      <td>Adventure;Casual;Indie</td>\n      <td>Indie;Casual;Adventure</td>\n      <td>0</td>\n      <td>4</td>\n      <td>0</td>\n      <td>0</td>\n      <td>0</td>\n      <td>0-20000</td>\n      <td>5.19</td>\n    </tr>\n  </tbody>\n</table>\n<p>27075 rows × 18 columns</p>\n</div>"
     },
     "execution_count": 77,
     "metadata": {},
     "output_type": "execute_result"
    }
   ],
   "source": [
    "df"
   ],
   "metadata": {
    "collapsed": false
   }
  },
  {
   "cell_type": "markdown",
   "source": [
    "2.1 описать типы переменных в наборе (какие являются непрерывные, категориальные, номинальные, ...)\n",
    "Данный датасет предоставляет информацию о различных характеристиках игр в магазине Steam.\n",
    "Разберемся с каждой характеристикой:\n",
    " 0   appid             - Идентификатор игры в Steam - Числовой непрерывный\n",
    " 1   name              - Название игры - Номинальный\n",
    " 2   release_date      - Дата релиза - Дискретный\n",
    " 3   english           - Поддержка английского (0 и 1) - Числовой дискретный\n",
    " 4   developer         - Имя разработчика - Номинальный\n",
    " 5   publisher         - Имя издателя - Номинальный\n",
    " 6   platforms         - Список поддерживаемых платформ - Номинальный\n",
    " 7   required_age      - Минимальный возраст - Числовой непрерывный\n",
    " 8   categories        - Категории игр - Номинальный\n",
    " 9   genres            - Жанры игр - Номинальный\n",
    " 10  steamspy_tags     - Теги сообщества для игр - Номинальный\n",
    " 11  achievements      - Кол-во достижений - Числовой непрерывный\n",
    " 12  positive_ratings  - Кол-во положительных отзывов - Числовой непрерывный\n",
    " 13  negative_ratings  - Кол-во отрицательных отзывов - Числовой непрерывный\n",
    " 14  average_playtime  - Среднее значение от количества времени в игре - Числовой непрерывный\n",
    " 15  median_playtime   - Медиана от количества времени в игре - Числовой непрерывный\n",
    " 16  owners            - Возможное количество покупателей - Числовой непрерывный\n",
    " 17  price             - Цена - Числовой непрерывный\n"
   ],
   "metadata": {
    "collapsed": false
   }
  },
  {
   "cell_type": "code",
   "execution_count": 78,
   "outputs": [
    {
     "data": {
      "text/plain": "              appid       english  required_age  achievements  \\\ncount  2.707500e+04  27075.000000  27075.000000  27075.000000   \nmean   5.962035e+05      0.981127      0.354903     45.248864   \nstd    2.508942e+05      0.136081      2.406044    352.670281   \nmin    1.000000e+01      0.000000      0.000000      0.000000   \n25%    4.012300e+05      1.000000      0.000000      0.000000   \n50%    5.990700e+05      1.000000      0.000000      7.000000   \n75%    7.987600e+05      1.000000      0.000000     23.000000   \nmax    1.069460e+06      1.000000     18.000000   9821.000000   \n\n       positive_ratings  negative_ratings  average_playtime  median_playtime  \\\ncount      2.707500e+04      27075.000000      27075.000000      27075.00000   \nmean       1.000559e+03        211.027147        149.804949        146.05603   \nstd        1.898872e+04       4284.938531       1827.038141       2353.88008   \nmin        0.000000e+00          0.000000          0.000000          0.00000   \n25%        6.000000e+00          2.000000          0.000000          0.00000   \n50%        2.400000e+01          9.000000          0.000000          0.00000   \n75%        1.260000e+02         42.000000          0.000000          0.00000   \nmax        2.644404e+06     487076.000000     190625.000000     190625.00000   \n\n              price  \ncount  27075.000000  \nmean       6.078193  \nstd        7.874922  \nmin        0.000000  \n25%        1.690000  \n50%        3.990000  \n75%        7.190000  \nmax      421.990000  ",
      "text/html": "<div>\n<style scoped>\n    .dataframe tbody tr th:only-of-type {\n        vertical-align: middle;\n    }\n\n    .dataframe tbody tr th {\n        vertical-align: top;\n    }\n\n    .dataframe thead th {\n        text-align: right;\n    }\n</style>\n<table border=\"1\" class=\"dataframe\">\n  <thead>\n    <tr style=\"text-align: right;\">\n      <th></th>\n      <th>appid</th>\n      <th>english</th>\n      <th>required_age</th>\n      <th>achievements</th>\n      <th>positive_ratings</th>\n      <th>negative_ratings</th>\n      <th>average_playtime</th>\n      <th>median_playtime</th>\n      <th>price</th>\n    </tr>\n  </thead>\n  <tbody>\n    <tr>\n      <th>count</th>\n      <td>2.707500e+04</td>\n      <td>27075.000000</td>\n      <td>27075.000000</td>\n      <td>27075.000000</td>\n      <td>2.707500e+04</td>\n      <td>27075.000000</td>\n      <td>27075.000000</td>\n      <td>27075.00000</td>\n      <td>27075.000000</td>\n    </tr>\n    <tr>\n      <th>mean</th>\n      <td>5.962035e+05</td>\n      <td>0.981127</td>\n      <td>0.354903</td>\n      <td>45.248864</td>\n      <td>1.000559e+03</td>\n      <td>211.027147</td>\n      <td>149.804949</td>\n      <td>146.05603</td>\n      <td>6.078193</td>\n    </tr>\n    <tr>\n      <th>std</th>\n      <td>2.508942e+05</td>\n      <td>0.136081</td>\n      <td>2.406044</td>\n      <td>352.670281</td>\n      <td>1.898872e+04</td>\n      <td>4284.938531</td>\n      <td>1827.038141</td>\n      <td>2353.88008</td>\n      <td>7.874922</td>\n    </tr>\n    <tr>\n      <th>min</th>\n      <td>1.000000e+01</td>\n      <td>0.000000</td>\n      <td>0.000000</td>\n      <td>0.000000</td>\n      <td>0.000000e+00</td>\n      <td>0.000000</td>\n      <td>0.000000</td>\n      <td>0.00000</td>\n      <td>0.000000</td>\n    </tr>\n    <tr>\n      <th>25%</th>\n      <td>4.012300e+05</td>\n      <td>1.000000</td>\n      <td>0.000000</td>\n      <td>0.000000</td>\n      <td>6.000000e+00</td>\n      <td>2.000000</td>\n      <td>0.000000</td>\n      <td>0.00000</td>\n      <td>1.690000</td>\n    </tr>\n    <tr>\n      <th>50%</th>\n      <td>5.990700e+05</td>\n      <td>1.000000</td>\n      <td>0.000000</td>\n      <td>7.000000</td>\n      <td>2.400000e+01</td>\n      <td>9.000000</td>\n      <td>0.000000</td>\n      <td>0.00000</td>\n      <td>3.990000</td>\n    </tr>\n    <tr>\n      <th>75%</th>\n      <td>7.987600e+05</td>\n      <td>1.000000</td>\n      <td>0.000000</td>\n      <td>23.000000</td>\n      <td>1.260000e+02</td>\n      <td>42.000000</td>\n      <td>0.000000</td>\n      <td>0.00000</td>\n      <td>7.190000</td>\n    </tr>\n    <tr>\n      <th>max</th>\n      <td>1.069460e+06</td>\n      <td>1.000000</td>\n      <td>18.000000</td>\n      <td>9821.000000</td>\n      <td>2.644404e+06</td>\n      <td>487076.000000</td>\n      <td>190625.000000</td>\n      <td>190625.00000</td>\n      <td>421.990000</td>\n    </tr>\n  </tbody>\n</table>\n</div>"
     },
     "execution_count": 78,
     "metadata": {},
     "output_type": "execute_result"
    }
   ],
   "source": [
    "df.describe() #2.3 Статистические характеристики набора"
   ],
   "metadata": {
    "collapsed": false
   }
  },
  {
   "cell_type": "markdown",
   "source": [
    "3.  Уметь показать и объяснить содержимое набора данных:"
   ],
   "metadata": {
    "collapsed": false
   }
  },
  {
   "cell_type": "code",
   "execution_count": 79,
   "outputs": [
    {
     "data": {
      "text/plain": "       appid   name  release_date  english  developer  publisher  platforms  \\\n0      False  False         False    False      False      False      False   \n1      False  False         False    False      False      False      False   \n2      False  False         False    False      False      False      False   \n3      False  False         False    False      False      False      False   \n4      False  False         False    False      False      False      False   \n...      ...    ...           ...      ...        ...        ...        ...   \n27070  False  False         False    False      False      False      False   \n27071  False  False         False    False      False      False      False   \n27072  False  False         False    False      False      False      False   \n27073  False  False         False    False      False      False      False   \n27074  False  False         False    False      False      False      False   \n\n       required_age  categories  genres  steamspy_tags  achievements  \\\n0             False       False   False          False         False   \n1             False       False   False          False         False   \n2             False       False   False          False         False   \n3             False       False   False          False         False   \n4             False       False   False          False         False   \n...             ...         ...     ...            ...           ...   \n27070         False       False   False          False         False   \n27071         False       False   False          False         False   \n27072         False       False   False          False         False   \n27073         False       False   False          False         False   \n27074         False       False   False          False         False   \n\n       positive_ratings  negative_ratings  average_playtime  median_playtime  \\\n0                 False             False             False            False   \n1                 False             False             False            False   \n2                 False             False             False            False   \n3                 False             False             False            False   \n4                 False             False             False            False   \n...                 ...               ...               ...              ...   \n27070             False             False             False            False   \n27071             False             False             False            False   \n27072             False             False             False            False   \n27073             False             False             False            False   \n27074             False             False             False            False   \n\n       owners  price  \n0       False  False  \n1       False  False  \n2       False  False  \n3       False  False  \n4       False  False  \n...       ...    ...  \n27070   False  False  \n27071   False  False  \n27072   False  False  \n27073   False  False  \n27074   False  False  \n\n[27075 rows x 18 columns]",
      "text/html": "<div>\n<style scoped>\n    .dataframe tbody tr th:only-of-type {\n        vertical-align: middle;\n    }\n\n    .dataframe tbody tr th {\n        vertical-align: top;\n    }\n\n    .dataframe thead th {\n        text-align: right;\n    }\n</style>\n<table border=\"1\" class=\"dataframe\">\n  <thead>\n    <tr style=\"text-align: right;\">\n      <th></th>\n      <th>appid</th>\n      <th>name</th>\n      <th>release_date</th>\n      <th>english</th>\n      <th>developer</th>\n      <th>publisher</th>\n      <th>platforms</th>\n      <th>required_age</th>\n      <th>categories</th>\n      <th>genres</th>\n      <th>steamspy_tags</th>\n      <th>achievements</th>\n      <th>positive_ratings</th>\n      <th>negative_ratings</th>\n      <th>average_playtime</th>\n      <th>median_playtime</th>\n      <th>owners</th>\n      <th>price</th>\n    </tr>\n  </thead>\n  <tbody>\n    <tr>\n      <th>0</th>\n      <td>False</td>\n      <td>False</td>\n      <td>False</td>\n      <td>False</td>\n      <td>False</td>\n      <td>False</td>\n      <td>False</td>\n      <td>False</td>\n      <td>False</td>\n      <td>False</td>\n      <td>False</td>\n      <td>False</td>\n      <td>False</td>\n      <td>False</td>\n      <td>False</td>\n      <td>False</td>\n      <td>False</td>\n      <td>False</td>\n    </tr>\n    <tr>\n      <th>1</th>\n      <td>False</td>\n      <td>False</td>\n      <td>False</td>\n      <td>False</td>\n      <td>False</td>\n      <td>False</td>\n      <td>False</td>\n      <td>False</td>\n      <td>False</td>\n      <td>False</td>\n      <td>False</td>\n      <td>False</td>\n      <td>False</td>\n      <td>False</td>\n      <td>False</td>\n      <td>False</td>\n      <td>False</td>\n      <td>False</td>\n    </tr>\n    <tr>\n      <th>2</th>\n      <td>False</td>\n      <td>False</td>\n      <td>False</td>\n      <td>False</td>\n      <td>False</td>\n      <td>False</td>\n      <td>False</td>\n      <td>False</td>\n      <td>False</td>\n      <td>False</td>\n      <td>False</td>\n      <td>False</td>\n      <td>False</td>\n      <td>False</td>\n      <td>False</td>\n      <td>False</td>\n      <td>False</td>\n      <td>False</td>\n    </tr>\n    <tr>\n      <th>3</th>\n      <td>False</td>\n      <td>False</td>\n      <td>False</td>\n      <td>False</td>\n      <td>False</td>\n      <td>False</td>\n      <td>False</td>\n      <td>False</td>\n      <td>False</td>\n      <td>False</td>\n      <td>False</td>\n      <td>False</td>\n      <td>False</td>\n      <td>False</td>\n      <td>False</td>\n      <td>False</td>\n      <td>False</td>\n      <td>False</td>\n    </tr>\n    <tr>\n      <th>4</th>\n      <td>False</td>\n      <td>False</td>\n      <td>False</td>\n      <td>False</td>\n      <td>False</td>\n      <td>False</td>\n      <td>False</td>\n      <td>False</td>\n      <td>False</td>\n      <td>False</td>\n      <td>False</td>\n      <td>False</td>\n      <td>False</td>\n      <td>False</td>\n      <td>False</td>\n      <td>False</td>\n      <td>False</td>\n      <td>False</td>\n    </tr>\n    <tr>\n      <th>...</th>\n      <td>...</td>\n      <td>...</td>\n      <td>...</td>\n      <td>...</td>\n      <td>...</td>\n      <td>...</td>\n      <td>...</td>\n      <td>...</td>\n      <td>...</td>\n      <td>...</td>\n      <td>...</td>\n      <td>...</td>\n      <td>...</td>\n      <td>...</td>\n      <td>...</td>\n      <td>...</td>\n      <td>...</td>\n      <td>...</td>\n    </tr>\n    <tr>\n      <th>27070</th>\n      <td>False</td>\n      <td>False</td>\n      <td>False</td>\n      <td>False</td>\n      <td>False</td>\n      <td>False</td>\n      <td>False</td>\n      <td>False</td>\n      <td>False</td>\n      <td>False</td>\n      <td>False</td>\n      <td>False</td>\n      <td>False</td>\n      <td>False</td>\n      <td>False</td>\n      <td>False</td>\n      <td>False</td>\n      <td>False</td>\n    </tr>\n    <tr>\n      <th>27071</th>\n      <td>False</td>\n      <td>False</td>\n      <td>False</td>\n      <td>False</td>\n      <td>False</td>\n      <td>False</td>\n      <td>False</td>\n      <td>False</td>\n      <td>False</td>\n      <td>False</td>\n      <td>False</td>\n      <td>False</td>\n      <td>False</td>\n      <td>False</td>\n      <td>False</td>\n      <td>False</td>\n      <td>False</td>\n      <td>False</td>\n    </tr>\n    <tr>\n      <th>27072</th>\n      <td>False</td>\n      <td>False</td>\n      <td>False</td>\n      <td>False</td>\n      <td>False</td>\n      <td>False</td>\n      <td>False</td>\n      <td>False</td>\n      <td>False</td>\n      <td>False</td>\n      <td>False</td>\n      <td>False</td>\n      <td>False</td>\n      <td>False</td>\n      <td>False</td>\n      <td>False</td>\n      <td>False</td>\n      <td>False</td>\n    </tr>\n    <tr>\n      <th>27073</th>\n      <td>False</td>\n      <td>False</td>\n      <td>False</td>\n      <td>False</td>\n      <td>False</td>\n      <td>False</td>\n      <td>False</td>\n      <td>False</td>\n      <td>False</td>\n      <td>False</td>\n      <td>False</td>\n      <td>False</td>\n      <td>False</td>\n      <td>False</td>\n      <td>False</td>\n      <td>False</td>\n      <td>False</td>\n      <td>False</td>\n    </tr>\n    <tr>\n      <th>27074</th>\n      <td>False</td>\n      <td>False</td>\n      <td>False</td>\n      <td>False</td>\n      <td>False</td>\n      <td>False</td>\n      <td>False</td>\n      <td>False</td>\n      <td>False</td>\n      <td>False</td>\n      <td>False</td>\n      <td>False</td>\n      <td>False</td>\n      <td>False</td>\n      <td>False</td>\n      <td>False</td>\n      <td>False</td>\n      <td>False</td>\n    </tr>\n  </tbody>\n</table>\n<p>27075 rows × 18 columns</p>\n</div>"
     },
     "execution_count": 79,
     "metadata": {},
     "output_type": "execute_result"
    }
   ],
   "source": [
    "df.isna() #3.3 Имеются ли пустые значения полей"
   ],
   "metadata": {
    "collapsed": false
   }
  },
  {
   "cell_type": "markdown",
   "source": [
    "В нашей таблице нет пустых значений полей"
   ],
   "metadata": {
    "collapsed": false
   }
  },
  {
   "cell_type": "markdown",
   "source": [
    " 3.4 Статистические характеристики числовых полей (мин, макс, среднее,медиана).\n",
    " Найдём характеристики числового поля achievements"
   ],
   "metadata": {
    "collapsed": false
   }
  },
  {
   "cell_type": "code",
   "execution_count": 80,
   "outputs": [
    {
     "data": {
      "text/plain": "0"
     },
     "execution_count": 80,
     "metadata": {},
     "output_type": "execute_result"
    }
   ],
   "source": [
    "df[\"achievements\"].min()"
   ],
   "metadata": {
    "collapsed": false
   }
  },
  {
   "cell_type": "code",
   "execution_count": 81,
   "outputs": [
    {
     "data": {
      "text/plain": "9821"
     },
     "execution_count": 81,
     "metadata": {},
     "output_type": "execute_result"
    }
   ],
   "source": [
    "df[\"achievements\"].max()"
   ],
   "metadata": {
    "collapsed": false
   }
  },
  {
   "cell_type": "code",
   "execution_count": 82,
   "outputs": [
    {
     "data": {
      "text/plain": "45.24886426592798"
     },
     "execution_count": 82,
     "metadata": {},
     "output_type": "execute_result"
    }
   ],
   "source": [
    "df[\"achievements\"].mean()"
   ],
   "metadata": {
    "collapsed": false
   }
  },
  {
   "cell_type": "code",
   "execution_count": 83,
   "outputs": [
    {
     "data": {
      "text/plain": "7.0"
     },
     "execution_count": 83,
     "metadata": {},
     "output_type": "execute_result"
    }
   ],
   "source": [
    "df[\"achievements\"].median()"
   ],
   "metadata": {
    "collapsed": false
   }
  },
  {
   "cell_type": "markdown",
   "source": [
    "4. Выполнить срезы набора данных: по именам полей, по индексам"
   ],
   "metadata": {
    "collapsed": false
   }
  },
  {
   "cell_type": "code",
   "execution_count": 84,
   "outputs": [
    {
     "data": {
      "text/plain": "                              name release_date  english         developer\n0                   Counter-Strike   2000-11-01        1             Valve\n1            Team Fortress Classic   1999-04-01        1             Valve\n2                    Day of Defeat   2003-05-01        1             Valve\n3               Deathmatch Classic   2001-06-01        1             Valve\n4        Half-Life: Opposing Force   1999-11-01        1  Gearbox Software\n5                         Ricochet   2000-11-01        1             Valve\n6                        Half-Life   1998-11-08        1             Valve\n7   Counter-Strike: Condition Zero   2004-03-01        1             Valve\n8            Half-Life: Blue Shift   2001-06-01        1  Gearbox Software\n9                      Half-Life 2   2004-11-16        1             Valve\n10          Counter-Strike: Source   2004-11-01        1             Valve\n11               Half-Life: Source   2004-06-01        1             Valve\n12           Day of Defeat: Source   2010-07-12        1             Valve\n13         Half-Life 2: Deathmatch   2004-11-01        1             Valve\n14         Half-Life 2: Lost Coast   2005-10-27        1             Valve\n15    Half-Life Deathmatch: Source   2006-05-01        1             Valve",
      "text/html": "<div>\n<style scoped>\n    .dataframe tbody tr th:only-of-type {\n        vertical-align: middle;\n    }\n\n    .dataframe tbody tr th {\n        vertical-align: top;\n    }\n\n    .dataframe thead th {\n        text-align: right;\n    }\n</style>\n<table border=\"1\" class=\"dataframe\">\n  <thead>\n    <tr style=\"text-align: right;\">\n      <th></th>\n      <th>name</th>\n      <th>release_date</th>\n      <th>english</th>\n      <th>developer</th>\n    </tr>\n  </thead>\n  <tbody>\n    <tr>\n      <th>0</th>\n      <td>Counter-Strike</td>\n      <td>2000-11-01</td>\n      <td>1</td>\n      <td>Valve</td>\n    </tr>\n    <tr>\n      <th>1</th>\n      <td>Team Fortress Classic</td>\n      <td>1999-04-01</td>\n      <td>1</td>\n      <td>Valve</td>\n    </tr>\n    <tr>\n      <th>2</th>\n      <td>Day of Defeat</td>\n      <td>2003-05-01</td>\n      <td>1</td>\n      <td>Valve</td>\n    </tr>\n    <tr>\n      <th>3</th>\n      <td>Deathmatch Classic</td>\n      <td>2001-06-01</td>\n      <td>1</td>\n      <td>Valve</td>\n    </tr>\n    <tr>\n      <th>4</th>\n      <td>Half-Life: Opposing Force</td>\n      <td>1999-11-01</td>\n      <td>1</td>\n      <td>Gearbox Software</td>\n    </tr>\n    <tr>\n      <th>5</th>\n      <td>Ricochet</td>\n      <td>2000-11-01</td>\n      <td>1</td>\n      <td>Valve</td>\n    </tr>\n    <tr>\n      <th>6</th>\n      <td>Half-Life</td>\n      <td>1998-11-08</td>\n      <td>1</td>\n      <td>Valve</td>\n    </tr>\n    <tr>\n      <th>7</th>\n      <td>Counter-Strike: Condition Zero</td>\n      <td>2004-03-01</td>\n      <td>1</td>\n      <td>Valve</td>\n    </tr>\n    <tr>\n      <th>8</th>\n      <td>Half-Life: Blue Shift</td>\n      <td>2001-06-01</td>\n      <td>1</td>\n      <td>Gearbox Software</td>\n    </tr>\n    <tr>\n      <th>9</th>\n      <td>Half-Life 2</td>\n      <td>2004-11-16</td>\n      <td>1</td>\n      <td>Valve</td>\n    </tr>\n    <tr>\n      <th>10</th>\n      <td>Counter-Strike: Source</td>\n      <td>2004-11-01</td>\n      <td>1</td>\n      <td>Valve</td>\n    </tr>\n    <tr>\n      <th>11</th>\n      <td>Half-Life: Source</td>\n      <td>2004-06-01</td>\n      <td>1</td>\n      <td>Valve</td>\n    </tr>\n    <tr>\n      <th>12</th>\n      <td>Day of Defeat: Source</td>\n      <td>2010-07-12</td>\n      <td>1</td>\n      <td>Valve</td>\n    </tr>\n    <tr>\n      <th>13</th>\n      <td>Half-Life 2: Deathmatch</td>\n      <td>2004-11-01</td>\n      <td>1</td>\n      <td>Valve</td>\n    </tr>\n    <tr>\n      <th>14</th>\n      <td>Half-Life 2: Lost Coast</td>\n      <td>2005-10-27</td>\n      <td>1</td>\n      <td>Valve</td>\n    </tr>\n    <tr>\n      <th>15</th>\n      <td>Half-Life Deathmatch: Source</td>\n      <td>2006-05-01</td>\n      <td>1</td>\n      <td>Valve</td>\n    </tr>\n  </tbody>\n</table>\n</div>"
     },
     "execution_count": 84,
     "metadata": {},
     "output_type": "execute_result"
    }
   ],
   "source": [
    "df.loc[0:15, 'name':'developer'] #Первые 15 строк от колонки с именем до колонки разработчиков"
   ],
   "metadata": {
    "collapsed": false
   }
  },
  {
   "cell_type": "code",
   "execution_count": 85,
   "outputs": [
    {
     "data": {
      "text/plain": "                              name release_date  english         developer\n0                   Counter-Strike   2000-11-01        1             Valve\n1            Team Fortress Classic   1999-04-01        1             Valve\n2                    Day of Defeat   2003-05-01        1             Valve\n3               Deathmatch Classic   2001-06-01        1             Valve\n4        Half-Life: Opposing Force   1999-11-01        1  Gearbox Software\n5                         Ricochet   2000-11-01        1             Valve\n6                        Half-Life   1998-11-08        1             Valve\n7   Counter-Strike: Condition Zero   2004-03-01        1             Valve\n8            Half-Life: Blue Shift   2001-06-01        1  Gearbox Software\n9                      Half-Life 2   2004-11-16        1             Valve\n10          Counter-Strike: Source   2004-11-01        1             Valve\n11               Half-Life: Source   2004-06-01        1             Valve\n12           Day of Defeat: Source   2010-07-12        1             Valve\n13         Half-Life 2: Deathmatch   2004-11-01        1             Valve\n14         Half-Life 2: Lost Coast   2005-10-27        1             Valve",
      "text/html": "<div>\n<style scoped>\n    .dataframe tbody tr th:only-of-type {\n        vertical-align: middle;\n    }\n\n    .dataframe tbody tr th {\n        vertical-align: top;\n    }\n\n    .dataframe thead th {\n        text-align: right;\n    }\n</style>\n<table border=\"1\" class=\"dataframe\">\n  <thead>\n    <tr style=\"text-align: right;\">\n      <th></th>\n      <th>name</th>\n      <th>release_date</th>\n      <th>english</th>\n      <th>developer</th>\n    </tr>\n  </thead>\n  <tbody>\n    <tr>\n      <th>0</th>\n      <td>Counter-Strike</td>\n      <td>2000-11-01</td>\n      <td>1</td>\n      <td>Valve</td>\n    </tr>\n    <tr>\n      <th>1</th>\n      <td>Team Fortress Classic</td>\n      <td>1999-04-01</td>\n      <td>1</td>\n      <td>Valve</td>\n    </tr>\n    <tr>\n      <th>2</th>\n      <td>Day of Defeat</td>\n      <td>2003-05-01</td>\n      <td>1</td>\n      <td>Valve</td>\n    </tr>\n    <tr>\n      <th>3</th>\n      <td>Deathmatch Classic</td>\n      <td>2001-06-01</td>\n      <td>1</td>\n      <td>Valve</td>\n    </tr>\n    <tr>\n      <th>4</th>\n      <td>Half-Life: Opposing Force</td>\n      <td>1999-11-01</td>\n      <td>1</td>\n      <td>Gearbox Software</td>\n    </tr>\n    <tr>\n      <th>5</th>\n      <td>Ricochet</td>\n      <td>2000-11-01</td>\n      <td>1</td>\n      <td>Valve</td>\n    </tr>\n    <tr>\n      <th>6</th>\n      <td>Half-Life</td>\n      <td>1998-11-08</td>\n      <td>1</td>\n      <td>Valve</td>\n    </tr>\n    <tr>\n      <th>7</th>\n      <td>Counter-Strike: Condition Zero</td>\n      <td>2004-03-01</td>\n      <td>1</td>\n      <td>Valve</td>\n    </tr>\n    <tr>\n      <th>8</th>\n      <td>Half-Life: Blue Shift</td>\n      <td>2001-06-01</td>\n      <td>1</td>\n      <td>Gearbox Software</td>\n    </tr>\n    <tr>\n      <th>9</th>\n      <td>Half-Life 2</td>\n      <td>2004-11-16</td>\n      <td>1</td>\n      <td>Valve</td>\n    </tr>\n    <tr>\n      <th>10</th>\n      <td>Counter-Strike: Source</td>\n      <td>2004-11-01</td>\n      <td>1</td>\n      <td>Valve</td>\n    </tr>\n    <tr>\n      <th>11</th>\n      <td>Half-Life: Source</td>\n      <td>2004-06-01</td>\n      <td>1</td>\n      <td>Valve</td>\n    </tr>\n    <tr>\n      <th>12</th>\n      <td>Day of Defeat: Source</td>\n      <td>2010-07-12</td>\n      <td>1</td>\n      <td>Valve</td>\n    </tr>\n    <tr>\n      <th>13</th>\n      <td>Half-Life 2: Deathmatch</td>\n      <td>2004-11-01</td>\n      <td>1</td>\n      <td>Valve</td>\n    </tr>\n    <tr>\n      <th>14</th>\n      <td>Half-Life 2: Lost Coast</td>\n      <td>2005-10-27</td>\n      <td>1</td>\n      <td>Valve</td>\n    </tr>\n  </tbody>\n</table>\n</div>"
     },
     "execution_count": 85,
     "metadata": {},
     "output_type": "execute_result"
    }
   ],
   "source": [
    "df.iloc[0:15, 1:5] #Первые 15 строк от колонки с именем до колонки разработчиков (с помощью индексов)"
   ],
   "metadata": {
    "collapsed": false
   }
  },
  {
   "cell_type": "markdown",
   "source": [
    "5. Выполнить выбороки с фильтрацией по значниям полей (равенство, неравенство, частичный фильтр строк с помощью лямбда-функции), с использованием |, &. Выполнить сортировку отфильтрованного набора данных"
   ],
   "metadata": {
    "collapsed": false
   }
  },
  {
   "cell_type": "code",
   "execution_count": 86,
   "outputs": [
    {
     "data": {
      "text/plain": "                                  name release_date developer  \\\n0                       Counter-Strike   2000-11-01     Valve   \n2                        Day of Defeat   2003-05-01     Valve   \n6                            Half-Life   1998-11-08     Valve   \n10              Counter-Strike: Source   2004-11-01     Valve   \n12               Day of Defeat: Source   2010-07-12     Valve   \n14             Half-Life 2: Lost Coast   2005-10-27     Valve   \n16            Half-Life 2: Episode One   2006-06-01     Valve   \n18            Half-Life 2: Episode Two   2007-10-10     Valve   \n20                         Left 4 Dead   2008-11-17     Valve   \n22                              Dota 2   2013-07-09     Valve   \n24                         Alien Swarm   2010-07-19     Valve   \n334  Prince of Persia: Warrior Within™   2009-08-27   Ubisoft   \n338        Tom Clancy's Splinter Cell®   2008-04-01   Ubisoft   \n348                    Petz® Horsez® 2   2009-08-27   Ubisoft   \n352                 Silent Hunter® III   2008-06-13   Ubisoft   \n\n             platforms  price  \n0    windows;mac;linux   7.19  \n2    windows;mac;linux   3.99  \n6    windows;mac;linux   7.19  \n10   windows;mac;linux   7.19  \n12   windows;mac;linux   7.19  \n14   windows;mac;linux   0.00  \n16   windows;mac;linux   5.79  \n18   windows;mac;linux   5.79  \n20         windows;mac   7.19  \n22   windows;mac;linux   0.00  \n24             windows   0.00  \n334            windows   8.59  \n338            windows   4.29  \n348            windows   4.29  \n352            windows   4.29  ",
      "text/html": "<div>\n<style scoped>\n    .dataframe tbody tr th:only-of-type {\n        vertical-align: middle;\n    }\n\n    .dataframe tbody tr th {\n        vertical-align: top;\n    }\n\n    .dataframe thead th {\n        text-align: right;\n    }\n</style>\n<table border=\"1\" class=\"dataframe\">\n  <thead>\n    <tr style=\"text-align: right;\">\n      <th></th>\n      <th>name</th>\n      <th>release_date</th>\n      <th>developer</th>\n      <th>platforms</th>\n      <th>price</th>\n    </tr>\n  </thead>\n  <tbody>\n    <tr>\n      <th>0</th>\n      <td>Counter-Strike</td>\n      <td>2000-11-01</td>\n      <td>Valve</td>\n      <td>windows;mac;linux</td>\n      <td>7.19</td>\n    </tr>\n    <tr>\n      <th>2</th>\n      <td>Day of Defeat</td>\n      <td>2003-05-01</td>\n      <td>Valve</td>\n      <td>windows;mac;linux</td>\n      <td>3.99</td>\n    </tr>\n    <tr>\n      <th>6</th>\n      <td>Half-Life</td>\n      <td>1998-11-08</td>\n      <td>Valve</td>\n      <td>windows;mac;linux</td>\n      <td>7.19</td>\n    </tr>\n    <tr>\n      <th>10</th>\n      <td>Counter-Strike: Source</td>\n      <td>2004-11-01</td>\n      <td>Valve</td>\n      <td>windows;mac;linux</td>\n      <td>7.19</td>\n    </tr>\n    <tr>\n      <th>12</th>\n      <td>Day of Defeat: Source</td>\n      <td>2010-07-12</td>\n      <td>Valve</td>\n      <td>windows;mac;linux</td>\n      <td>7.19</td>\n    </tr>\n    <tr>\n      <th>14</th>\n      <td>Half-Life 2: Lost Coast</td>\n      <td>2005-10-27</td>\n      <td>Valve</td>\n      <td>windows;mac;linux</td>\n      <td>0.00</td>\n    </tr>\n    <tr>\n      <th>16</th>\n      <td>Half-Life 2: Episode One</td>\n      <td>2006-06-01</td>\n      <td>Valve</td>\n      <td>windows;mac;linux</td>\n      <td>5.79</td>\n    </tr>\n    <tr>\n      <th>18</th>\n      <td>Half-Life 2: Episode Two</td>\n      <td>2007-10-10</td>\n      <td>Valve</td>\n      <td>windows;mac;linux</td>\n      <td>5.79</td>\n    </tr>\n    <tr>\n      <th>20</th>\n      <td>Left 4 Dead</td>\n      <td>2008-11-17</td>\n      <td>Valve</td>\n      <td>windows;mac</td>\n      <td>7.19</td>\n    </tr>\n    <tr>\n      <th>22</th>\n      <td>Dota 2</td>\n      <td>2013-07-09</td>\n      <td>Valve</td>\n      <td>windows;mac;linux</td>\n      <td>0.00</td>\n    </tr>\n    <tr>\n      <th>24</th>\n      <td>Alien Swarm</td>\n      <td>2010-07-19</td>\n      <td>Valve</td>\n      <td>windows</td>\n      <td>0.00</td>\n    </tr>\n    <tr>\n      <th>334</th>\n      <td>Prince of Persia: Warrior Within™</td>\n      <td>2009-08-27</td>\n      <td>Ubisoft</td>\n      <td>windows</td>\n      <td>8.59</td>\n    </tr>\n    <tr>\n      <th>338</th>\n      <td>Tom Clancy's Splinter Cell®</td>\n      <td>2008-04-01</td>\n      <td>Ubisoft</td>\n      <td>windows</td>\n      <td>4.29</td>\n    </tr>\n    <tr>\n      <th>348</th>\n      <td>Petz® Horsez® 2</td>\n      <td>2009-08-27</td>\n      <td>Ubisoft</td>\n      <td>windows</td>\n      <td>4.29</td>\n    </tr>\n    <tr>\n      <th>352</th>\n      <td>Silent Hunter® III</td>\n      <td>2008-06-13</td>\n      <td>Ubisoft</td>\n      <td>windows</td>\n      <td>4.29</td>\n    </tr>\n  </tbody>\n</table>\n</div>"
     },
     "execution_count": 86,
     "metadata": {},
     "output_type": "execute_result"
    }
   ],
   "source": [
    "df[((df.developer == \"Valve\") | (df.developer == \"Ubisoft\")) & (df.english != 0)].iloc[lambda x: (x.index % 2 == 0) & (x.index < 1000), [False, True, True, False, True, False, True, False, False, False, False, False, False, False, False, False, False, True]]\n",
    "#выборка игр, разрабатываемых Valve или Ubisoft, с поддержкой английского языка. Берём только четные значения, меньше 1000."
   ],
   "metadata": {
    "collapsed": false
   }
  },
  {
   "cell_type": "code",
   "execution_count": 87,
   "outputs": [
    {
     "data": {
      "text/plain": "                                  name release_date developer  \\\n14             Half-Life 2: Lost Coast   2005-10-27     Valve   \n24                         Alien Swarm   2010-07-19     Valve   \n22                              Dota 2   2013-07-09     Valve   \n2                        Day of Defeat   2003-05-01     Valve   \n338        Tom Clancy's Splinter Cell®   2008-04-01   Ubisoft   \n352                 Silent Hunter® III   2008-06-13   Ubisoft   \n348                    Petz® Horsez® 2   2009-08-27   Ubisoft   \n16            Half-Life 2: Episode One   2006-06-01     Valve   \n18            Half-Life 2: Episode Two   2007-10-10     Valve   \n6                            Half-Life   1998-11-08     Valve   \n0                       Counter-Strike   2000-11-01     Valve   \n10              Counter-Strike: Source   2004-11-01     Valve   \n20                         Left 4 Dead   2008-11-17     Valve   \n12               Day of Defeat: Source   2010-07-12     Valve   \n334  Prince of Persia: Warrior Within™   2009-08-27   Ubisoft   \n\n             platforms  price  \n14   windows;mac;linux   0.00  \n24             windows   0.00  \n22   windows;mac;linux   0.00  \n2    windows;mac;linux   3.99  \n338            windows   4.29  \n352            windows   4.29  \n348            windows   4.29  \n16   windows;mac;linux   5.79  \n18   windows;mac;linux   5.79  \n6    windows;mac;linux   7.19  \n0    windows;mac;linux   7.19  \n10   windows;mac;linux   7.19  \n20         windows;mac   7.19  \n12   windows;mac;linux   7.19  \n334            windows   8.59  ",
      "text/html": "<div>\n<style scoped>\n    .dataframe tbody tr th:only-of-type {\n        vertical-align: middle;\n    }\n\n    .dataframe tbody tr th {\n        vertical-align: top;\n    }\n\n    .dataframe thead th {\n        text-align: right;\n    }\n</style>\n<table border=\"1\" class=\"dataframe\">\n  <thead>\n    <tr style=\"text-align: right;\">\n      <th></th>\n      <th>name</th>\n      <th>release_date</th>\n      <th>developer</th>\n      <th>platforms</th>\n      <th>price</th>\n    </tr>\n  </thead>\n  <tbody>\n    <tr>\n      <th>14</th>\n      <td>Half-Life 2: Lost Coast</td>\n      <td>2005-10-27</td>\n      <td>Valve</td>\n      <td>windows;mac;linux</td>\n      <td>0.00</td>\n    </tr>\n    <tr>\n      <th>24</th>\n      <td>Alien Swarm</td>\n      <td>2010-07-19</td>\n      <td>Valve</td>\n      <td>windows</td>\n      <td>0.00</td>\n    </tr>\n    <tr>\n      <th>22</th>\n      <td>Dota 2</td>\n      <td>2013-07-09</td>\n      <td>Valve</td>\n      <td>windows;mac;linux</td>\n      <td>0.00</td>\n    </tr>\n    <tr>\n      <th>2</th>\n      <td>Day of Defeat</td>\n      <td>2003-05-01</td>\n      <td>Valve</td>\n      <td>windows;mac;linux</td>\n      <td>3.99</td>\n    </tr>\n    <tr>\n      <th>338</th>\n      <td>Tom Clancy's Splinter Cell®</td>\n      <td>2008-04-01</td>\n      <td>Ubisoft</td>\n      <td>windows</td>\n      <td>4.29</td>\n    </tr>\n    <tr>\n      <th>352</th>\n      <td>Silent Hunter® III</td>\n      <td>2008-06-13</td>\n      <td>Ubisoft</td>\n      <td>windows</td>\n      <td>4.29</td>\n    </tr>\n    <tr>\n      <th>348</th>\n      <td>Petz® Horsez® 2</td>\n      <td>2009-08-27</td>\n      <td>Ubisoft</td>\n      <td>windows</td>\n      <td>4.29</td>\n    </tr>\n    <tr>\n      <th>16</th>\n      <td>Half-Life 2: Episode One</td>\n      <td>2006-06-01</td>\n      <td>Valve</td>\n      <td>windows;mac;linux</td>\n      <td>5.79</td>\n    </tr>\n    <tr>\n      <th>18</th>\n      <td>Half-Life 2: Episode Two</td>\n      <td>2007-10-10</td>\n      <td>Valve</td>\n      <td>windows;mac;linux</td>\n      <td>5.79</td>\n    </tr>\n    <tr>\n      <th>6</th>\n      <td>Half-Life</td>\n      <td>1998-11-08</td>\n      <td>Valve</td>\n      <td>windows;mac;linux</td>\n      <td>7.19</td>\n    </tr>\n    <tr>\n      <th>0</th>\n      <td>Counter-Strike</td>\n      <td>2000-11-01</td>\n      <td>Valve</td>\n      <td>windows;mac;linux</td>\n      <td>7.19</td>\n    </tr>\n    <tr>\n      <th>10</th>\n      <td>Counter-Strike: Source</td>\n      <td>2004-11-01</td>\n      <td>Valve</td>\n      <td>windows;mac;linux</td>\n      <td>7.19</td>\n    </tr>\n    <tr>\n      <th>20</th>\n      <td>Left 4 Dead</td>\n      <td>2008-11-17</td>\n      <td>Valve</td>\n      <td>windows;mac</td>\n      <td>7.19</td>\n    </tr>\n    <tr>\n      <th>12</th>\n      <td>Day of Defeat: Source</td>\n      <td>2010-07-12</td>\n      <td>Valve</td>\n      <td>windows;mac;linux</td>\n      <td>7.19</td>\n    </tr>\n    <tr>\n      <th>334</th>\n      <td>Prince of Persia: Warrior Within™</td>\n      <td>2009-08-27</td>\n      <td>Ubisoft</td>\n      <td>windows</td>\n      <td>8.59</td>\n    </tr>\n  </tbody>\n</table>\n</div>"
     },
     "execution_count": 87,
     "metadata": {},
     "output_type": "execute_result"
    }
   ],
   "source": [
    "#сортировка по цене и дате релиза\n",
    "df[((df.developer == \"Valve\") | (df.developer == \"Ubisoft\")) & (df.english != 0)].iloc[lambda x: (x.index % 2 == 0) & (x.index < 1000), [False, True, True, False, True, False, True, False, False, False, False, False, False, False, False, False, False, True]].sort_values(by = [\"price\", \"release_date\"], ascending = [True, True])"
   ],
   "metadata": {
    "collapsed": false
   }
  },
  {
   "cell_type": "markdown",
   "source": [
    "6. Выполнить группировку данных по некоторым признакам (на основе предварительного анализа содержимого набора данных)"
   ],
   "metadata": {
    "collapsed": false
   }
  },
  {
   "cell_type": "code",
   "execution_count": 88,
   "outputs": [
    {
     "data": {
      "text/plain": "                      price                        \n                       mean       std  amin    amax\nplatforms                                          \nlinux              0.000000       NaN  0.00    0.00\nmac                6.126667  8.236628  0.00   15.49\nmac;linux          3.490000       NaN  3.49    3.49\nwindows            6.009143  8.149931  0.00  421.99\nwindows;linux      4.978328  5.345681  0.00   39.99\nwindows;mac        6.105347  8.933703  0.00  303.99\nwindows;mac;linux  6.479760  5.947220  0.00   60.99",
      "text/html": "<div>\n<style scoped>\n    .dataframe tbody tr th:only-of-type {\n        vertical-align: middle;\n    }\n\n    .dataframe tbody tr th {\n        vertical-align: top;\n    }\n\n    .dataframe thead tr th {\n        text-align: left;\n    }\n\n    .dataframe thead tr:last-of-type th {\n        text-align: right;\n    }\n</style>\n<table border=\"1\" class=\"dataframe\">\n  <thead>\n    <tr>\n      <th></th>\n      <th colspan=\"4\" halign=\"left\">price</th>\n    </tr>\n    <tr>\n      <th></th>\n      <th>mean</th>\n      <th>std</th>\n      <th>amin</th>\n      <th>amax</th>\n    </tr>\n    <tr>\n      <th>platforms</th>\n      <th></th>\n      <th></th>\n      <th></th>\n      <th></th>\n    </tr>\n  </thead>\n  <tbody>\n    <tr>\n      <th>linux</th>\n      <td>0.000000</td>\n      <td>NaN</td>\n      <td>0.00</td>\n      <td>0.00</td>\n    </tr>\n    <tr>\n      <th>mac</th>\n      <td>6.126667</td>\n      <td>8.236628</td>\n      <td>0.00</td>\n      <td>15.49</td>\n    </tr>\n    <tr>\n      <th>mac;linux</th>\n      <td>3.490000</td>\n      <td>NaN</td>\n      <td>3.49</td>\n      <td>3.49</td>\n    </tr>\n    <tr>\n      <th>windows</th>\n      <td>6.009143</td>\n      <td>8.149931</td>\n      <td>0.00</td>\n      <td>421.99</td>\n    </tr>\n    <tr>\n      <th>windows;linux</th>\n      <td>4.978328</td>\n      <td>5.345681</td>\n      <td>0.00</td>\n      <td>39.99</td>\n    </tr>\n    <tr>\n      <th>windows;mac</th>\n      <td>6.105347</td>\n      <td>8.933703</td>\n      <td>0.00</td>\n      <td>303.99</td>\n    </tr>\n    <tr>\n      <th>windows;mac;linux</th>\n      <td>6.479760</td>\n      <td>5.947220</td>\n      <td>0.00</td>\n      <td>60.99</td>\n    </tr>\n  </tbody>\n</table>\n</div>"
     },
     "execution_count": 88,
     "metadata": {},
     "output_type": "execute_result"
    }
   ],
   "source": [
    "df.groupby([\"platforms\"])[[\"price\"]].agg( [np.mean, np.std, np.min, np.max] )\n",
    "#группировка игр по поддерживаемым платформам, отобразив базовые стат.данные по цене"
   ],
   "metadata": {
    "collapsed": false
   }
  },
  {
   "cell_type": "markdown",
   "source": [
    "7. Выполнить объединение таблиц с различнымы типами присоединения (если нет возможности выполнить эту операцию с загруженным набором, то допускается создать собственные наборы)"
   ],
   "metadata": {
    "collapsed": false
   }
  },
  {
   "cell_type": "code",
   "execution_count": 89,
   "outputs": [
    {
     "data": {
      "text/plain": "                             name           developer release_date\n0                  Counter-Strike               Valve   2000-11-01\n1           Team Fortress Classic               Valve   1999-04-01\n2                   Day of Defeat               Valve   2003-05-01\n3              Deathmatch Classic               Valve   2001-06-01\n4       Half-Life: Opposing Force    Gearbox Software   1999-11-01\n...                           ...                 ...          ...\n27156             Room of Pandora         SHEN JIAWEI   2019-04-24\n27157                   Cyber Gun      Semyon Maximov   2019-04-23\n27158            Super Star Blast         EntwicklerX   2019-04-24\n27159  New Yankee 7: Deer Hunters  Yustas Game Studio   2019-04-17\n27160                   Rune Lord    Adept Studios GD   2019-04-24\n\n[27161 rows x 3 columns]",
      "text/html": "<div>\n<style scoped>\n    .dataframe tbody tr th:only-of-type {\n        vertical-align: middle;\n    }\n\n    .dataframe tbody tr th {\n        vertical-align: top;\n    }\n\n    .dataframe thead th {\n        text-align: right;\n    }\n</style>\n<table border=\"1\" class=\"dataframe\">\n  <thead>\n    <tr style=\"text-align: right;\">\n      <th></th>\n      <th>name</th>\n      <th>developer</th>\n      <th>release_date</th>\n    </tr>\n  </thead>\n  <tbody>\n    <tr>\n      <th>0</th>\n      <td>Counter-Strike</td>\n      <td>Valve</td>\n      <td>2000-11-01</td>\n    </tr>\n    <tr>\n      <th>1</th>\n      <td>Team Fortress Classic</td>\n      <td>Valve</td>\n      <td>1999-04-01</td>\n    </tr>\n    <tr>\n      <th>2</th>\n      <td>Day of Defeat</td>\n      <td>Valve</td>\n      <td>2003-05-01</td>\n    </tr>\n    <tr>\n      <th>3</th>\n      <td>Deathmatch Classic</td>\n      <td>Valve</td>\n      <td>2001-06-01</td>\n    </tr>\n    <tr>\n      <th>4</th>\n      <td>Half-Life: Opposing Force</td>\n      <td>Gearbox Software</td>\n      <td>1999-11-01</td>\n    </tr>\n    <tr>\n      <th>...</th>\n      <td>...</td>\n      <td>...</td>\n      <td>...</td>\n    </tr>\n    <tr>\n      <th>27156</th>\n      <td>Room of Pandora</td>\n      <td>SHEN JIAWEI</td>\n      <td>2019-04-24</td>\n    </tr>\n    <tr>\n      <th>27157</th>\n      <td>Cyber Gun</td>\n      <td>Semyon Maximov</td>\n      <td>2019-04-23</td>\n    </tr>\n    <tr>\n      <th>27158</th>\n      <td>Super Star Blast</td>\n      <td>EntwicklerX</td>\n      <td>2019-04-24</td>\n    </tr>\n    <tr>\n      <th>27159</th>\n      <td>New Yankee 7: Deer Hunters</td>\n      <td>Yustas Game Studio</td>\n      <td>2019-04-17</td>\n    </tr>\n    <tr>\n      <th>27160</th>\n      <td>Rune Lord</td>\n      <td>Adept Studios GD</td>\n      <td>2019-04-24</td>\n    </tr>\n  </tbody>\n</table>\n<p>27161 rows × 3 columns</p>\n</div>"
     },
     "execution_count": 89,
     "metadata": {},
     "output_type": "execute_result"
    }
   ],
   "source": [
    "df_developer = df.iloc[:, :5].iloc[:, [False, True, False, False, True]] #таблица с названием и разработчиком игры\n",
    "df_data = df.iloc[:, :5].iloc[:, [False, True, True, False, False]] #таблица с названием и датой релиза игры\n",
    "full_df = df_developer.merge(df_data, how = \"inner\") # объединение\n",
    "full_df"
   ],
   "metadata": {
    "collapsed": false
   }
  }
 ],
 "metadata": {
  "kernelspec": {
   "display_name": "Python 3",
   "language": "python",
   "name": "python3"
  },
  "language_info": {
   "codemirror_mode": {
    "name": "ipython",
    "version": 2
   },
   "file_extension": ".py",
   "mimetype": "text/x-python",
   "name": "python",
   "nbconvert_exporter": "python",
   "pygments_lexer": "ipython2",
   "version": "2.7.6"
  }
 },
 "nbformat": 4,
 "nbformat_minor": 0
}
